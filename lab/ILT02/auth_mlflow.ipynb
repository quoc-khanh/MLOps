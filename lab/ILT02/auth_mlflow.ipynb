{
 "cells": [
  {
   "cell_type": "markdown",
   "metadata": {},
   "source": [
    "Importing dependencies"
   ]
  },
  {
   "cell_type": "code",
   "execution_count": 1,
   "metadata": {},
   "outputs": [],
   "source": [
    "import os\n",
    "from dotenv import load_dotenv\n",
    "from mlflow import MlflowClient"
   ]
  },
  {
   "cell_type": "markdown",
   "metadata": {},
   "source": [
    "Loading the enviroment "
   ]
  },
  {
   "cell_type": "code",
   "execution_count": 2,
   "metadata": {},
   "outputs": [
    {
     "data": {
      "text/plain": [
       "True"
      ]
     },
     "execution_count": 2,
     "metadata": {},
     "output_type": "execute_result"
    }
   ],
   "source": [
    "load_dotenv()"
   ]
  },
  {
   "cell_type": "code",
   "execution_count": 3,
   "metadata": {},
   "outputs": [],
   "source": [
    "tracking_uri = os.getenv(\"MLFLOW_TRACKING_URI\")\n",
    "client = MlflowClient(tracking_uri=tracking_uri)"
   ]
  },
  {
   "cell_type": "code",
   "execution_count": 4,
   "metadata": {},
   "outputs": [
    {
     "data": {
      "text/plain": [
       "[<Experiment: artifact_location='file:///home/andrehaeberlin/getting_started_mlflow/mlruns', creation_time=1707932458827, experiment_id='874551218959346669', last_update_time=1707932458827, lifecycle_stage='active', name='Social NLP Experiments', tags={'priority': 'P1', 'version': 'v1'}>,\n",
       " <Experiment: artifact_location='mlflow-artifacts:/100680742376768383', creation_time=1707932298575, experiment_id='100680742376768383', last_update_time=1707932298575, lifecycle_stage='active', name='Apple_Models_2', tags={'mlflow.note.content': 'This is the grocery forecasting project. This '\n",
       "                         'experiment contains the produce models for apples.',\n",
       "  'project_name': 'grocery-forecasting',\n",
       "  'project_quarter': 'Q3-2023',\n",
       "  'store_dept': 'produce',\n",
       "  'team': 'stores-ml'}>,\n",
       " <Experiment: artifact_location='mlflow-artifacts:/923934032021800509', creation_time=1707932266403, experiment_id='923934032021800509', last_update_time=1707932266403, lifecycle_stage='active', name='Apple_Models_1', tags={'mlflow.note.content': 'This is the grocery forecasting project. This '\n",
       "                         'experiment contains the produce models for apples.',\n",
       "  'project_name': 'grocery-forecasting',\n",
       "  'project_quarter': 'Q3-2023',\n",
       "  'store_dept': 'produce',\n",
       "  'team': 'stores-ml'}>,\n",
       " <Experiment: artifact_location='mlflow-artifacts:/665823732664597081', creation_time=1707855087841, experiment_id='665823732664597081', last_update_time=1707855087841, lifecycle_stage='active', name='MLflow Quickstart', tags={}>,\n",
       " <Experiment: artifact_location='mlflow-artifacts:/232886580622657502', creation_time=1707574559267, experiment_id='232886580622657502', last_update_time=1707574559267, lifecycle_stage='active', name='Apple_Models', tags={'mlflow.note.content': 'This is the grocery forecasting project. This '\n",
       "                         'experiment contains the produce models for apples.',\n",
       "  'project_name': 'grocery-forecasting',\n",
       "  'project_quarter': 'Q3-2023',\n",
       "  'store_dept': 'produce',\n",
       "  'team': 'stores-ml'}>,\n",
       " <Experiment: artifact_location='mlflow-artifacts:/0', creation_time=1707574453804, experiment_id='0', last_update_time=1707574453804, lifecycle_stage='active', name='Default', tags={}>]"
      ]
     },
     "execution_count": 4,
     "metadata": {},
     "output_type": "execute_result"
    }
   ],
   "source": [
    "client.search_experiments()"
   ]
  },
  {
   "cell_type": "markdown",
   "metadata": {},
   "source": [
    "Checking the host adress"
   ]
  },
  {
   "cell_type": "code",
   "execution_count": 5,
   "metadata": {},
   "outputs": [
    {
     "data": {
      "text/plain": [
       "'http://localhost:5000'"
      ]
     },
     "execution_count": 5,
     "metadata": {},
     "output_type": "execute_result"
    }
   ],
   "source": [
    "tracking_uri"
   ]
  },
  {
   "cell_type": "markdown",
   "metadata": {},
   "source": [
    "AuthServiceClient you can use to configure the users"
   ]
  },
  {
   "cell_type": "code",
   "execution_count": 6,
   "metadata": {},
   "outputs": [],
   "source": [
    "from mlflow.server.auth.client import AuthServiceClient\n",
    "\n",
    "auth_client = AuthServiceClient(tracking_uri=tracking_uri)"
   ]
  },
  {
   "cell_type": "markdown",
   "metadata": {},
   "source": [
    "Creating your new user"
   ]
  },
  {
   "cell_type": "code",
   "execution_count": 17,
   "metadata": {},
   "outputs": [
    {
     "data": {
      "text/plain": [
       "<mlflow.server.auth.entities.User at 0x7f6f99850250>"
      ]
     },
     "execution_count": 17,
     "metadata": {},
     "output_type": "execute_result"
    }
   ],
   "source": [
    "auth_client.create_user(\"andreh\", \"newpassword\")"
   ]
  },
  {
   "cell_type": "markdown",
   "metadata": {},
   "source": [
    "You can change the admin"
   ]
  },
  {
   "cell_type": "code",
   "execution_count": null,
   "metadata": {},
   "outputs": [],
   "source": [
    "auth_client.update_user_admin(username='andreh', is_admin=True)"
   ]
  },
  {
   "cell_type": "markdown",
   "metadata": {},
   "source": [
    "The basic user you can change"
   ]
  },
  {
   "cell_type": "code",
   "execution_count": null,
   "metadata": {},
   "outputs": [],
   "source": [
    "auth_client.update_user_admin(username='admin', is_admin=False)"
   ]
  },
  {
   "cell_type": "markdown",
   "metadata": {},
   "source": [
    "Cheecking if your config is working"
   ]
  },
  {
   "cell_type": "code",
   "execution_count": null,
   "metadata": {},
   "outputs": [],
   "source": [
    "new_adm = auth_client.get_user(\"andreh\")\n",
    "print(new_adm.username, new_adm.is_admin, new_adm.password_hash, new_adm.registered_model_permissions)\n",
    "adm = auth_client.get_user(\"admin\")\n",
    "print(adm.username, adm.is_admin, adm.password_hash, adm.registered_model_permissions)"
   ]
  },
  {
   "cell_type": "markdown",
   "metadata": {},
   "source": [
    "If you didn't use the admin you can delete"
   ]
  },
  {
   "cell_type": "code",
   "execution_count": null,
   "metadata": {},
   "outputs": [],
   "source": [
    "auth_client.delete_user(\"admin\")"
   ]
  },
  {
   "cell_type": "markdown",
   "metadata": {},
   "source": [
    "If you already used the admin you can create other use to use the delete_user method"
   ]
  },
  {
   "cell_type": "code",
   "execution_count": 24,
   "metadata": {},
   "outputs": [
    {
     "name": "stdout",
     "output_type": "stream",
     "text": [
      "newuser False REDACTED []\n"
     ]
    }
   ],
   "source": [
    "usr = auth_client.get_user(\"newuser\")\n",
    "print(usr.username, usr.is_admin, usr.password_hash, usr.registered_model_permissions)"
   ]
  },
  {
   "cell_type": "code",
   "execution_count": 15,
   "metadata": {},
   "outputs": [],
   "source": [
    "auth_client.delete_user(username=usr.username)"
   ]
  },
  {
   "cell_type": "markdown",
   "metadata": {},
   "source": [
    "You can update your password"
   ]
  },
  {
   "cell_type": "code",
   "execution_count": 6,
   "metadata": {},
   "outputs": [],
   "source": [
    "auth_client.update_user_password('andreh','12345password')"
   ]
  },
  {
   "cell_type": "code",
   "execution_count": null,
   "metadata": {},
   "outputs": [],
   "source": [
    "auth_client.create_user(\"newuserread\", \"newpassword\")\n",
    "ep = auth_client.create_experiment_permission(\"myexperiment\", \"newuserread\", \"READ\")\n",
    "print(f\"experiment_id: {ep.experiment_id}\")\n",
    "print(f\"user_id: {ep.user_id}\")\n",
    "print(f\"permission: {ep.permission}\")\n"
   ]
  }
 ],
 "metadata": {
  "kernelspec": {
   "display_name": ".venv",
   "language": "python",
   "name": "python3"
  },
  "language_info": {
   "codemirror_mode": {
    "name": "ipython",
    "version": 3
   },
   "file_extension": ".py",
   "mimetype": "text/x-python",
   "name": "python",
   "nbconvert_exporter": "python",
   "pygments_lexer": "ipython3",
   "version": "3.10.12"
  }
 },
 "nbformat": 4,
 "nbformat_minor": 2
}
