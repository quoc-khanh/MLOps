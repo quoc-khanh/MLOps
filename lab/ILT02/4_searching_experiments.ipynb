{
 "cells": [
  {
   "cell_type": "markdown",
   "metadata": {},
   "source": [
    "# Searching Experiments"
   ]
  },
  {
   "cell_type": "markdown",
   "metadata": {},
   "source": [
    "In the last section, we created our first MLflow Experiment, providing custom tags so that we can find co-related Experiments that are part of a larger project.\n",
    "\n",
    "In this brief section, we’re going to see how to perform those searches with the MLflow Client API.\n",
    "\n",
    "Before we perform the search, let’s take a look at our Apple_Models experiment in the UI."
   ]
  },
  {
   "cell_type": "markdown",
   "metadata": {},
   "source": [
    "## Seeing our new Experiment in the UI"
   ]
  },
  {
   "cell_type": "markdown",
   "metadata": {},
   "source": [
    "As before, we’re going to connect to our running MLflow Tracking server to view the MLflow UI. If you’ve closed the browser window that was running it, simply navigate to http://127.0.0.1:8080 in a new browser window.\n",
    "\n",
    "View our new experiment in the UI\n",
    "The “Apple_Models” Experiment in the MLflow UI\n",
    "Important components to be aware of in the UI\n",
    "There are some important elements in the UI to be aware of at this point, before we start adding more exciting things like runs to our new experiment. Note the annotated elements on the figure below. It will be useful to know that these bits of data are there later on.\n",
    "\n",
    "![first-experiment-ui](./img/4_first-experiment-ui.gif \"first-experiment-ui\")\n",
    "The “Apple_Models” Experiment in the MLflow UI\n"
   ]
  },
  {
   "cell_type": "markdown",
   "metadata": {},
   "source": [
    "### Important Data on the Experiment View Page\n"
   ]
  },
  {
   "cell_type": "markdown",
   "metadata": {},
   "source": [
    "![](./img/4_experiment-page-elements.svg)\n",
    "Key elements of the Experiments view page"
   ]
  },
  {
   "cell_type": "markdown",
   "metadata": {},
   "source": [
    "## Searching based on tags"
   ]
  },
  {
   "cell_type": "markdown",
   "metadata": {},
   "source": [
    "Now that we’ve seen the experiment and understand which of the tags that we specified during the creation of the experiment are visible within the UI and which are not, we’re going to explore the reason for defining those tags as we apply searches against the tracking server to find experiments whose custom tags values match our query terms.\n",
    "\n",
    "One of the more versatile uses of setting tags within Experiments is to enable searching for related Experiments based on a common tag. The filtering capabilities within the search_experiments API can be seen below, where we are searching for experiments whose custom project_name tag exactly matches grocery-forecasting.\n",
    "\n",
    "Note that the format that is used for the search filtering has some nuance to it. For named entities (for instance, here, the tags term in the beginning of the filter string), keys can be directly used. However, to reference custom tags, note the particular syntax used. The custom tag names are wrapped with back ticks (`) and our matching search condition is wrapped in single quotes."
   ]
  },
  {
   "cell_type": "markdown",
   "metadata": {},
   "source": [
    "### Python"
   ]
  },
  {
   "cell_type": "code",
   "execution_count": null,
   "metadata": {},
   "outputs": [],
   "source": [
    "# Use search_experiments() to search on the project_name tag key\n",
    "\n",
    "apples_experiment = client.search_experiments(\n",
    "    filter_string=\"tags.`project_name` = 'grocery-forecasting'\"\n",
    ")\n",
    "\n",
    "print(vars(apples_experiment[0]))"
   ]
  },
  {
   "cell_type": "markdown",
   "metadata": {},
   "source": [
    "The metadata associated with a created Experiment\n",
    "\n",
    "<Experiment: artifact_location='mlflow-artifacts:/926031323154788454',\n",
    "             creation_time=1694018173427,\n",
    "             experiment_id='926031323154788454',\n",
    "             last_update_time=1694018173427,\n",
    "             lifecycle_stage='active',\n",
    "             name='Apple_Models',\n",
    "             tags={\n",
    "                'mlflow.note.content': 'This is the grocery forecasting project. This '\n",
    "                        'experiment contains the produce models for apples.',\n",
    "                'project_name': 'grocery-forecasting',\n",
    "                'project_quarter': 'Q3-2023',\n",
    "                'team': 'stores-ml'}\n",
    ">"
   ]
  },
  {
   "cell_type": "markdown",
   "metadata": {},
   "source": [
    "#### Note\n",
    "\n",
    "The returned results above are formatted for legibility. This return type is an Experiment object, not a dict."
   ]
  },
  {
   "cell_type": "markdown",
   "metadata": {},
   "source": [
    "## Executing the Search\n",
    "![creating experiment](./img/4_creating-experiment.gif \"creating experiment\")\n",
    "Creating a new Experiment\n",
    "Creating a new Experiment and searching based on an Experiment tag\n",
    "In the next section, we’ll begin to use this experiment to log training data to runs that are associated with this experiment, introducing another aspect of both the MLflow APIs (the fluent API) and another part of the MLflow UI (the run information page)."
   ]
  }
 ],
 "metadata": {
  "language_info": {
   "name": "python"
  }
 },
 "nbformat": 4,
 "nbformat_minor": 2
}
