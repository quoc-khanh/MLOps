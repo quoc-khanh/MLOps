{
 "cells": [
  {
   "cell_type": "markdown",
   "metadata": {},
   "source": [
    "# Starting the MLflow Tracking Server"
   ]
  },
  {
   "cell_type": "markdown",
   "metadata": {},
   "source": [
    "Before diving into MLflow’s rich features, let’s set up the foundational components: the MLflow Tracking Server and the MLflow UI. This guide will walk you through the steps to get both up and running. / Antes de mergulhar nos recursos avançados do MLflow, vamos configurar os componentes básicos: o MLflow Tracking Server e a UI do MLflow. Este guia orientará você nas etapas para começar a trabalhar.\n"
   ]
  },
  {
   "cell_type": "markdown",
   "metadata": {},
   "source": [
    "## Setting Up MLflow"
   ]
  },
  {
   "cell_type": "markdown",
   "metadata": {},
   "source": [
    "The first thing that we need to do is to get MLflow."
   ]
  },
  {
   "cell_type": "markdown",
   "metadata": {},
   "source": [
    "### Step 1: Install MLflow from PyPI\n",
    "MLflow is conveniently available on PyPI. Installing it is as simple as running a pip command."
   ]
  },
  {
   "cell_type": "markdown",
   "metadata": {},
   "source": [
    "#### Bash:"
   ]
  },
  {
   "cell_type": "code",
   "execution_count": null,
   "metadata": {},
   "outputs": [],
   "source": [
    "pip install mlflow"
   ]
  },
  {
   "cell_type": "markdown",
   "metadata": {},
   "source": [
    "### Step 2 (Optional): Launch the MLflow Tracking Server"
   ]
  },
  {
   "cell_type": "markdown",
   "metadata": {},
   "source": [
    "If you would like to use a simpler solution by leveraging a managed instance of the MLflow Tracking Server, please see the details about options here.\n",
    "\n",
    "To begin, you’ll need to initiate the MLflow Tracking Server. Remember to keep the command prompt running during the tutorial, as closing it will shut down the server."
   ]
  },
  {
   "cell_type": "markdown",
   "metadata": {},
   "source": [
    "#### Bash"
   ]
  },
  {
   "cell_type": "code",
   "execution_count": null,
   "metadata": {},
   "outputs": [],
   "source": [
    "mlflow server --host 127.0.0.1 --port 8080"
   ]
  },
  {
   "cell_type": "markdown",
   "metadata": {},
   "source": [
    "or with authentification"
   ]
  },
  {
   "cell_type": "code",
   "execution_count": null,
   "metadata": {},
   "outputs": [],
   "source": [
    "mlflow server --app-name basic-auth"
   ]
  },
  {
   "cell_type": "markdown",
   "metadata": {},
   "source": [
    "Once the server starts running, you should see the following output:\n",
    "\n",
    "[2023-11-01 10:28:12 +0900] [28550] [INFO] Starting gunicorn 20.1.0\n",
    "[2023-11-01 10:28:12 +0900] [28550] [INFO] Listening at: http://127.0.0.1:8080 (28550)\n",
    "[2023-11-01 10:28:12 +0900] [28550] [INFO] Using worker: sync\n",
    "[2023-11-01 10:28:12 +0900] [28552] [INFO] Booting worker with pid: 28552\n",
    "[2023-11-01 10:28:12 +0900] [28553] [INFO] Booting worker with pid: 28553\n",
    "[2023-11-01 10:28:12 +0900] [28555] [INFO] Booting worker with pid: 28555\n",
    "[2023-11-01 10:28:12 +0900] [28558] [INFO] Booting worker with pid: 28558\n",
    "..."
   ]
  },
  {
   "cell_type": "markdown",
   "metadata": {},
   "source": [
    "### Note"
   ]
  },
  {
   "cell_type": "markdown",
   "metadata": {},
   "source": [
    "Remember the host and port name that your MLflow tracking server is assigned. You will need this information in the next section of this tutorial!\n",
    "\n",
    "Congratulations! Your MLflow environment is now set up and ready to go. As you progress, you’ll explore the myriad of functionalities MLflow has to offer, streamlining and enhancing your machine learning workflows."
   ]
  }
 ],
 "metadata": {
  "kernelspec": {
   "display_name": ".venv",
   "language": "python",
   "name": "python3"
  },
  "language_info": {
   "codemirror_mode": {
    "name": "ipython",
    "version": 3
   },
   "file_extension": ".py",
   "mimetype": "text/x-python",
   "name": "python",
   "nbconvert_exporter": "python",
   "pygments_lexer": "ipython3",
   "version": "3.10.12"
  }
 },
 "nbformat": 4,
 "nbformat_minor": 2
}
