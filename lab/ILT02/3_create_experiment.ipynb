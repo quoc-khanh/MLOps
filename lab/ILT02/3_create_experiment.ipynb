{
 "cells": [
  {
   "cell_type": "markdown",
   "metadata": {},
   "source": [
    "# Creating Experiments"
   ]
  },
  {
   "cell_type": "markdown",
   "metadata": {},
   "source": [
    "In the previous section, we became familiar with the MLflow Client and its search_experiments API. Before we get into creating experiments and adding metadata tags to them, let’s take a brief look at the MLflow UI.\n",
    "\n",
    "In the first section of this tutorial, we started the MLflow Tracking Server from a command prompt, specifying the host as 127.0.0.1 and the port as 8080. Let’s go to the UI and see what the Default Experiment looks like.\n"
   ]
  },
  {
   "cell_type": "markdown",
   "metadata": {},
   "source": [
    "## Viewing the MLflow UI"
   ]
  },
  {
   "cell_type": "markdown",
   "metadata": {},
   "source": [
    "In order to see the MLflow UI, we simply have to use a web browser to connect to the MLflow Tracking Server and navigate to http://127.0.0.1:8080. Once navigating to the url for the MLflow UI, you will see the default experiment with no run data.\n",
    "\n",
    "![default ui](./img/default-ui.png \"default ui\")\n",
    "\n",
    "The default MLflow UI\n",
    "\n",
    "As you can see, there are no runs recorded and only the Default Experiment (with an ID of 0) is present. This won’t be the case for long, as we’re about to add a new Experiment."
   ]
  },
  {
   "cell_type": "markdown",
   "metadata": {},
   "source": [
    "### Notes on Tags vs Experiments"
   ]
  },
  {
   "cell_type": "markdown",
   "metadata": {},
   "source": [
    "While MLflow does provide a default experiment, it primarily serves as a ‘catch-all’ safety net for runs initiated without a specified active experiment. However, it’s not recommended for regular use. Instead, creating unique experiments for specific collections of runs offers numerous advantages, as we’ll explore below.\n",
    "\n",
    "#### Benefits of Defining Unique Experiments:\n",
    "\n",
    "1. Enhanced Organization: Experiments allow you to group related runs, making it easier to track and compare them. This is especially helpful when managing numerous runs, as in large-scale projects.\n",
    "\n",
    "2. Metadata Annotation: Experiments can carry metadata that aids in organizing and associating runs with larger projects.\n",
    "\n",
    "Consider the scenario below: we’re simulating participation in a large demand forecasting project. This project involves building forecasting models for various departments in a chain of grocery stores, each housing numerous products. Our focus here is the ‘produce’ department, which has several distinct items, each requiring its own forecast model. Organizing these models becomes paramount to ensure easy navigation and comparison.\n",
    "\n",
    "#### When Should You Define an Experiment?\n",
    "\n",
    "The guiding principle for creating an experiment is the consistency of the input data. If multiple runs use the same input dataset (even if they utilize different portions of it), they logically belong to the same experiment. For other hierarchical categorizations, using tags is advisable.\n",
    "\n",
    "#### Example:\n",
    "\n",
    "Consider the following structure of the models, mapped to the business product hierarchy:\n",
    "\n",
    "Demand Forecasting Project\n",
    "Dairy\n",
    "Cheese\n",
    "Parmesan\n",
    "Cheddar\n",
    "Milk\n",
    "Whole\n",
    "2%\n",
    "Produce\n",
    "Fruit\n",
    "Apples\n",
    "Cherries\n",
    "Vegetables\n",
    "Carrots\n",
    "Here, the produce and dairy departments are part of the same overarching project, but they rely on distinct datasets and will likely produce different model metrics. Grouping the departments together definitely doesn’t make sense.\n",
    "\n",
    "However, the temptation might arise to group all produce together. Grouping diverse items like apples, cherries, and carrots under a single experiment could dilute the effectiveness of run comparisons within that experiment. Thus, it’s essential to demarcate clear boundaries for your experiments to ensure meaningful insights."
   ]
  },
  {
   "cell_type": "markdown",
   "metadata": {},
   "source": [
    "### Note\n",
    "\n",
    "While the business product hierarchy in this case doesn’t explicitly need to be captured within the tags, there is nothing preventing you from doing so. There isn’t a limit to the number of tags that you can apply. Provided that the keys being used are consistent across experiments and runs to permit search to function properly, any number of arbitrary mappings between tracked models and your specific business rules can be applied.\n",
    "\n",
    "To apply these boundaries effectively, as is shown in the figure below, tags should be employed."
   ]
  },
  {
   "cell_type": "markdown",
   "metadata": {},
   "source": [
    "To apply these boundaries effectively, as is shown in the figure below, tags should be employed.\n",
    "\n",
    "![exp-run-relationship](./img/tag-exp-run-relationship.svg \"exp-run-relationship\")\n"
   ]
  },
  {
   "cell_type": "markdown",
   "metadata": {},
   "source": [
    "## Creating the Apples Experiment with Meaningful tags"
   ]
  },
  {
   "cell_type": "markdown",
   "metadata": {},
   "source": [
    "### Python\n"
   ]
  },
  {
   "cell_type": "code",
   "execution_count": null,
   "metadata": {},
   "outputs": [],
   "source": [
    "# Provide an Experiment description that will appear in the UI\n",
    "experiment_description = (\n",
    "    \"This is the grocery forecasting project. \"\n",
    "    \"This experiment contains the produce models for apples.\"\n",
    ")\n",
    "\n",
    "# Provide searchable tags that define characteristics of the Runs that\n",
    "# will be in this Experiment\n",
    "experiment_tags = {\n",
    "    \"project_name\": \"grocery-forecasting\",\n",
    "    \"store_dept\": \"produce\",\n",
    "    \"team\": \"stores-ml\",\n",
    "    \"project_quarter\": \"Q3-2023\",\n",
    "    \"mlflow.note.content\": experiment_description,\n",
    "}\n",
    "\n",
    "# Create the Experiment, providing a unique name\n",
    "produce_apples_experiment = client.create_experiment(\n",
    "    name=\"Apple_Models\", tags=experiment_tags\n",
    ")"
   ]
  },
  {
   "cell_type": "markdown",
   "metadata": {},
   "source": [
    "\n",
    "In the next section, we’ll take a look at what these tags can be used for, which are visible in the UI, and how we can leverage the power of tags to simplify access to experiments that are part of a larger project."
   ]
  }
 ],
 "metadata": {
  "kernelspec": {
   "display_name": ".venv",
   "language": "python",
   "name": "python3"
  },
  "language_info": {
   "codemirror_mode": {
    "name": "ipython",
    "version": 3
   },
   "file_extension": ".py",
   "mimetype": "text/x-python",
   "name": "python",
   "nbconvert_exporter": "python",
   "pygments_lexer": "ipython3",
   "version": "3.10.12"
  }
 },
 "nbformat": 4,
 "nbformat_minor": 2
}
