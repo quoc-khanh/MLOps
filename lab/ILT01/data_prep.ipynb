{
 "cells": [
  {
   "cell_type": "markdown",
   "metadata": {},
   "source": [
    "These examples cover some of the most common data cleaning tasks in Pandas. Remember to adjust the code according to your specific dataset and requirements"
   ]
  },
  {
   "cell_type": "markdown",
   "metadata": {},
   "source": [
    "# Handling Missing Values"
   ]
  },
  {
   "cell_type": "code",
   "execution_count": null,
   "metadata": {
    "vscode": {
     "languageId": "plaintext"
    }
   },
   "outputs": [],
   "source": [
    "import pandas as pd\n",
    "\n",
    "# Create a sample dataframe\n",
    "df = pd.DataFrame({'A': [1, 2, None, 4], 'B': [5, None, 7, 8]})\n",
    "\n",
    "# Fill missing values with a specific value\n",
    "df['A'].fillna(0, inplace=True)\n",
    "\n",
    "# Fill missing values with the mean of the column\n",
    "df['B'].fillna(df['B'].mean(), inplace=True)\n",
    "\n",
    "# Drop rows with any missing values\n",
    "df.dropna(inplace=True)\n"
   ]
  },
  {
   "cell_type": "markdown",
   "metadata": {},
   "source": [
    "# Removing Duplicates"
   ]
  },
  {
   "cell_type": "code",
   "execution_count": null,
   "metadata": {
    "vscode": {
     "languageId": "plaintext"
    }
   },
   "outputs": [],
   "source": [
    "# Create a dataframe with duplicates\n",
    "df = pd.DataFrame({'A': [1, 2, 2, 3], 'B': [4, 5, 5, 6]})\n",
    "\n",
    "# Remove duplicate rows\n",
    "df.drop_duplicates(inplace=True)\n",
    "\n",
    "# Remove duplicates based on specific columns\n",
    "df.drop_duplicates(subset=['A'], keep='first', inplace=True)\n"
   ]
  },
  {
   "cell_type": "markdown",
   "metadata": {},
   "source": [
    "# Handling Outliers"
   ]
  },
  {
   "cell_type": "code",
   "execution_count": null,
   "metadata": {
    "vscode": {
     "languageId": "plaintext"
    }
   },
   "outputs": [],
   "source": [
    "import numpy as np\n",
    "\n",
    "# Create a dataframe with outliers\n",
    "df = pd.DataFrame({'A': [1, 2, 3, 100, 4, 5]})\n",
    "\n",
    "# Identify outliers using Z-score\n",
    "z_scores = np.abs((df['A'] - df['A'].mean()) / df['A'].std())\n",
    "df = df[(z_scores < 3)]\n",
    "\n",
    "# Or using IQR method\n",
    "Q1 = df['A'].quantile(0.25)\n",
    "Q3 = df['A'].quantile(0.75)\n",
    "IQR = Q3 - Q1\n",
    "df = df[~((df['A'] < (Q1 - 1.5 * IQR)) | (df['A'] > (Q3 + 1.5 * IQR)))]\n"
   ]
  },
  {
   "cell_type": "markdown",
   "metadata": {},
   "source": [
    "#  Type Conversion"
   ]
  },
  {
   "cell_type": "code",
   "execution_count": null,
   "metadata": {
    "vscode": {
     "languageId": "plaintext"
    }
   },
   "outputs": [],
   "source": [
    "# Create a dataframe with mixed types\n",
    "df = pd.DataFrame({'A': ['1', '2', '3'], 'B': ['2023-01-01', '2023-01-02', '2023-01-03']})\n",
    "\n",
    "# Convert string to integer\n",
    "df['A'] = df['A'].astype(int)\n",
    "\n",
    "# Convert string to datetime\n",
    "df['B'] = pd.to_datetime(df['B'])\n"
   ]
  },
  {
   "cell_type": "markdown",
   "metadata": {},
   "source": [
    "# String Cleaning"
   ]
  },
  {
   "cell_type": "code",
   "execution_count": null,
   "metadata": {
    "vscode": {
     "languageId": "plaintext"
    }
   },
   "outputs": [],
   "source": [
    "# Create a dataframe with messy strings\n",
    "df = pd.DataFrame({'A': [' John ', 'JANE', 'bob']})\n",
    "\n",
    "# Strip whitespace and convert to title case\n",
    "df['A'] = df['A'].str.strip().str.title()\n"
   ]
  },
  {
   "cell_type": "markdown",
   "metadata": {},
   "source": [
    "# Renaming Columns"
   ]
  },
  {
   "cell_type": "code",
   "execution_count": null,
   "metadata": {
    "vscode": {
     "languageId": "plaintext"
    }
   },
   "outputs": [],
   "source": [
    "# Create a dataframe with unclear column names\n",
    "df = pd.DataFrame({'A': [1, 2, 3], 'B': [4, 5, 6]})\n",
    "\n",
    "# Rename columns\n",
    "df.rename(columns={'A': 'ID', 'B': 'Value'}, inplace=True)\n"
   ]
  }
 ],
 "metadata": {
  "language_info": {
   "name": "python"
  }
 },
 "nbformat": 4,
 "nbformat_minor": 2
}
